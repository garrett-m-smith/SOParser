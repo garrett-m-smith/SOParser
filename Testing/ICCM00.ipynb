{
 "cells": [
  {
   "cell_type": "markdown",
   "metadata": {},
   "source": [
    "# Towards an ICCM paper\n",
    "\n",
    "This notebook will have two parts. The first will make predictions about reading times (to start, for local coherence effects) from the equations of motion. The second will test the hypothesis that, in the model, the average reading time is monotonically dependent on the relative harmony values of two competing peaks.\n",
    "\n",
    "To test both of these ideas, we'll use a 2D harmony landscape with two attractors, one at [1, 0] and the other at [0, 1]. The attractor at [1, 0] will be the grammatical parse $\\mathbf{x}_g$, and [0, 1] will be the ungrammatical parse $\\mathbf{x}_u$."
   ]
  },
  {
   "cell_type": "markdown",
   "metadata": {},
   "source": [
    "## Part the first: A line integral approach to predicting reading times\n",
    "\n",
    "(This is taken largely from [here](http://tutorial.math.lamar.edu/Classes/CalcIII/LineIntegralsPtI.aspx) and Boas (1983, *Mathematical methods in the physical sciences*, Wiley).\n",
    "\n",
    "The time to travel some distance along a curve $C$ is equal to the distance traveled divided by the speed of travel. Thus, we're looking for an equation of the form $T = dist / speed$. In the general case of $n$-dimensions, this will be a path integral $T = \\int_C \\mathbf{F}~ds$, where $\\mathbf{F}$ is some vector field and $ds$ is infinitesimally small arc length along the curve $C$. Ideally, we would define the curve $C$ to be the actual path defined by the dynamics, but that would require an explicit solution to the differential equation $\\dot{\\mathbf{x}} = \\nabla H(\\mathbf{x})$, which we don't have. Instead, we approximate the actual solution curve with a straight line connecting the initial state $\\mathbf{x}_0$ and some final state $\\mathbf{x}_1$ close to $\\mathbf{x}_g$ or $\\mathbf{x}_u$.\n",
    "\n",
    "We want to see how long it takes to get from $\\mathbf{x}_0$ to $\\mathbf{x}_1$, so we're looking at\n",
    "$$\n",
    "T = \\int_C \\nabla H(\\mathbf{x})^{-1} ds\n",
    "$$\n",
    "We need to make $H(\\cdot)^{-1}$ a function of the 1D position along the curve, so that means writing each element $x_j$ of the state vector $\\mathbf{x}$ as function of that position. This position along the curve is given by \n",
    "$$\n",
    "\\mathbf{r}(t) = (1 - t)\\mathbf{x}_0 + t\\mathbf{x}_1\n",
    "$$\n",
    "for $0 \\leq t \\leq 1$. With \n",
    "$$\n",
    "ds = \\sqrt{\\sum_j \\left(\\frac{dx_j}{dt}\\right)^2}dt\n",
    "$$\n",
    "the integral becomes\n",
    "$$\n",
    "T = \\int_0^1 \\left(\\nabla H(\\mathbf{r}(t))^{-1} \\sqrt{\\sum_j \\left(\\frac{dx_j}{dt}\\right)^2}\\right)dt\n",
    "$$\n",
    "which can be evaluated numerically."
   ]
  },
  {
   "cell_type": "markdown",
   "metadata": {},
   "source": [
    "## Part the second: Relative harmony heights and reading times"
   ]
  },
  {
   "cell_type": "code",
   "execution_count": null,
   "metadata": {
    "collapsed": true
   },
   "outputs": [],
   "source": []
  }
 ],
 "metadata": {
  "kernelspec": {
   "display_name": "Python [conda root]",
   "language": "python",
   "name": "conda-root-py"
  },
  "language_info": {
   "codemirror_mode": {
    "name": "ipython",
    "version": 3
   },
   "file_extension": ".py",
   "mimetype": "text/x-python",
   "name": "python",
   "nbconvert_exporter": "python",
   "pygments_lexer": "ipython3",
   "version": "3.5.4"
  }
 },
 "nbformat": 4,
 "nbformat_minor": 2
}
