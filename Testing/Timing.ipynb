{
 "cells": [
  {
   "cell_type": "markdown",
   "metadata": {},
   "source": [
    "# Testing an approach to timing and parse probabilities\n",
    "\n",
    "One of the main goals of my dissertation is a quantitative theory of why different sentences are processed at different speeds in the SOSP framework. I also want to understand why SOSP produces the distribution of parses it does for comparison with human data. Here, I propose a pretty naive approach to those two problems that partially succeeds at least *qualitatively*.\n",
    "\n",
    "### Processing speeds\n",
    "For noiseless dynamical systems, $1 /\\vert\\lambda\\vert$, where $\\lambda$ is the smallest-magnitude eigenvalue of a stable fixed point, gives the characteristic time scale of that fixed point (Strogatz, 1994). Attractors with higher-magnitude $\\lambda$s pull the system faster than attractors with smaller $\\lambda$s. For SOSP, then, we should expect differences in reading times between two alternative parses if their characteristic time scales are different. With a noisy system, this property should still hold as long as the magnitude of the noise is small enough (if the eigenvalues of the noise matrix are smaller in magnitude than those of the linearized noiseless dynamics?).\n",
    "\n",
    "#### Another method\n",
    "The time it takes to cover some distance equals the distance covered divided by the velocity. To get from some initial $x_0$ to some other $x_1$, this becomes a line integral:\n",
    "$$\n",
    "T = \\int_C \\nabla H(\\mathbf{x})^{-1}ds\n",
    "$$\n",
    "\n",
    "If $C$ is the straight line between $x_0$ and $x_1$, then this becomes:\n",
    "$$\n",
    "T = \\left\\Vert\\sqrt{\\sum_j (x_{1j} - x_{0j})^2}\\right\\Vert \\int_0^1 \\nabla H((1 - t)\\mathbf{x}_0 + t \\mathbf{x}_1)^{-1} dt\n",
    "$$\n",
    "where $j$ ranges over the elements of $\\mathbf{x}$. The integral is tough (or impossible?) to evaluate analytically, but we can integrate it numerically. The followign approximation makes the settling time's dependence on $h_i$ (when $x_1$ is close to $\\mathbf{c}_i$ clear. If we're in the attractor basin of $\\mathbf{c}_i$, then $\\nabla H \\approx \\frac{-2 h_i}{\\gamma} (\\mathbf{x} - \\mathbf{c}_i) \\exp\\left(\\frac{\\Vert\\mathbf{x} - \\mathbf{c}_i\\Vert^2}{\\gamma}\\right)$, so $T \\propto h_i^{-1}$: higher harmonies lead to faster settling times and vice versa.\n",
    "\n",
    "### Probability distribution over parses\n",
    "After reading a word, the state of an SOSP parser will be somewhere between attractors, likely near a separatrix between two or more attractor basins. The system will then settle toward an attractor until it gets sufficiently close. To estimate analytically which attractors are most likely, we decide in advance which attractors are most relevant, e.g., the nearest $n$ parses. We then estimate the probability of being in each parse by integrating the stationary probability distribution over a small area containing the harmony peak for that parse. The relative probability of each parse is then just this integral divided by the sum of all relevant integrals. (Below, I don't do this integration because it was providing very similar results in testing. Instead, I just calculate the probabilty of being at a particular harmony peak and then divide it by the sum of all such relevant probabilities.)\n",
    "\n",
    "***\n",
    "## A simple test system\n",
    "\n",
    "Here, I'll consider a 1D example to test this approach. The noiseless harmony function is (Muezzinoglu & Zurada, 2006):\n",
    "$$\n",
    "H(x) = \\sum_{i \\in {0, 1}} h_i\\phi_i(x) = h_0\\exp\\left(-\\frac{x^2}{\\gamma} \\right) + h_1\\exp\\left(-\\frac{(x-1)^2}{\\gamma} \\right)\n",
    "$$\n",
    "The $h_i$ are the local harmony values for each peak (here, $h_0 = 1.0$ and $h_1 = 0.5$), and $\\gamma = 0.15$ is a parameter that sets the widths of the peaks.\n",
    "\n",
    "The dynamics of the system is given by the gradient of the harmony function:\n",
    "$$\n",
    "\\dot{x} = \\nabla H(x) = -\\frac{2 h_0}{\\gamma} x \\exp\\left(-\\frac{x^2}{\\gamma} \\right) - \\frac{2 h_1}{\\gamma} (x - 1) \\exp\\left(-\\frac{(x-1)^2}{\\gamma} \\right)\n",
    "$$\n",
    "\n",
    "The linearization (for getting the characteristic time scale) is tedious to calculate by hand, so I'll let SymPy do it for me below.\n",
    "\n",
    "With a Gaussian noise term $dW$ (variance = $D$) added, the final stochastic differential equation (a Langevin equation) is:\n",
    "$$\n",
    "\\dot{x} = \\nabla H(x) + \\sqrt{2D}dW\n",
    "$$\n",
    "\n",
    "The associated Fokker-Planck equation is (Gardiner, 1985):\n",
    "$$\n",
    "\\frac{\\partial P(x, t)}{\\partial t} = -\\frac{\\partial \\nabla H}{\\partial x} P(x, t) + \\frac{\\partial^2 D P(x, t)}{\\partial x^2}\n",
    "$$\n",
    "which has the stationary solution:\n",
    "$$\n",
    "P_s(x) = \\mathcal{N}^{-1} \\exp\\left(H(x) / D \\right)\n",
    "$$\n",
    "where $\\mathcal{N}$ is a normalization constant that ensures $\\int_{-\\infty}^{\\infty} P_s d\\mathbf{x} = 1$. Here, I use $\\mathcal{N} = \\int_{-\\infty}^{\\infty} \\exp\\left(H(\\mathbf{x})/D\\right)d\\mathbf{x}$.\n",
    "\n",
    "***\n",
    "Now, let's turn to SymPy to start analyzing this system."
   ]
  },
  {
   "cell_type": "code",
   "execution_count": 30,
   "metadata": {
    "collapsed": true
   },
   "outputs": [],
   "source": [
    "from sympy import *\n",
    "init_printing()  # Makes the outputs look nicer\n",
    "from IPython.display import display\n",
    "\n",
    "x, h0, h1, gamma, D = symbols('x h0 h1 gamma D')  # make these formal symbols for SymPy to manipulate\n",
    "h0 = 1.0\n",
    "h1 = 0.5\n",
    "D = 0.01\n",
    "gamma = 0.25\n",
    "\n",
    "H = h0*exp(-x**2 / gamma) + h1*exp(-(x-1)**2 / gamma)  # defining the harmony function\n",
    "#print('H =')\n",
    "#display(H)\n",
    "\n",
    "dxdt = diff(H, x)  # taking the gradient of H wrt. x\n",
    "#print('\\ndx/dt = ')\n",
    "#display(dxdt)"
   ]
  },
  {
   "cell_type": "code",
   "execution_count": 31,
   "metadata": {},
   "outputs": [
    {
     "data": {
      "image/png": "[encoded data removed]",
      "text/plain": [
       "<matplotlib.figure.Figure at 0x118c5dfd0>"
      ]
     },
     "metadata": {},
     "output_type": "display_data"
    }
   ],
   "source": [
    "# Looking at the harmony landscape\n",
    "import numpy as np\n",
    "import matplotlib.pyplot as plt\n",
    "\n",
    "Hnum = lambdify(x, H)  # Create a Numpy function out of the symbolic harmony function\n",
    "xrange = np.arange(-1., 2, 0.01)\n",
    "harmony = np.zeros(xrange.shape)\n",
    "for i in range(len(xrange)):\n",
    "    harmony[i] = Hnum(xrange[i])\n",
    "plt.plot(xrange, harmony)\n",
    "plt.title('Harmony landscape')\n",
    "plt.ylabel('Harmony')\n",
    "plt.xlabel('x')\n",
    "plt.show()"
   ]
  },
  {
   "cell_type": "markdown",
   "metadata": {},
   "source": [
    "Next, we set up the stationary probability distribution and find its normalization:"
   ]
  },
  {
   "cell_type": "code",
   "execution_count": 32,
   "metadata": {},
   "outputs": [
    {
     "data": {
      "image/png": "[encoded data removed]",
      "text/latex": [
       "$$1.55639344706473 \\cdot 10^{-43} e^{50.0 e^{- 4.0 \\left(x - 1\\right)^{2}} + 100.0 e^{- 4.0 x^{2}}} - 1.55639344706473 \\cdot 10^{-43}$$"
      ],
      "text/plain": [
       "                                        2                2                    \n",
       "                            -4.0⋅(x - 1)           -4.0⋅x                     \n",
       "                      50.0⋅ℯ              + 100.0⋅ℯ                           \n",
       "1.55639344706473e-43⋅ℯ                                     - 1.55639344706473e\n",
       "\n",
       "   \n",
       "   \n",
       "   \n",
       "-43"
      ]
     },
     "execution_count": 32,
     "metadata": {},
     "output_type": "execute_result"
    }
   ],
   "source": [
    "# The unnormalized stationary probability distribution, with values substituted in for the various parameters\n",
    "Punnorm = exp(H / D) - 1  # Need to subtract 1 so that the curve sits on the x-axis; Check with Till!\n",
    "# Finding the normalization\n",
    "normalization = Integral(Punnorm, (x, -oo, oo)).evalf()  # Takes about a minute to calculate\n",
    "#print(normalization)\n",
    "Ps = (1 / normalization) * Punnorm\n",
    "Ps"
   ]
  },
  {
   "cell_type": "code",
   "execution_count": 33,
   "metadata": {},
   "outputs": [
    {
     "data": {
      "image/png": "[encoded data removed]",
      "text/plain": [
       "<matplotlib.figure.Figure at 0x118c07c18>"
      ]
     },
     "metadata": {},
     "output_type": "display_data"
    }
   ],
   "source": [
    "# Now plotting the stationary probability distribution Ps\n",
    "Psnum = lambdify(x, Ps)\n",
    "probs = np.zeros(xrange.shape)\n",
    "for i in range(len(xrange)):\n",
    "    probs[i] = Psnum(xrange[i])\n",
    "plt.plot(xrange, probs)\n",
    "plt.title('Stationary probability distribution')\n",
    "plt.ylabel('Probability density')\n",
    "plt.show()"
   ]
  },
  {
   "cell_type": "markdown",
   "metadata": {},
   "source": [
    "This is where the problem is. Pilot testing the dynamical system below runs fine on its own as long as D <= about 0.1; it settles in about the right proportions and at about the right speeds. But until D >= about 0.5, there is almost no probability around x1. This is due to the fact that for small noise levels, we're dividing the harmony by a small number (making it really big) and then exponentiating it, which just exaggerates the difference in harmony height between x0 and x1 even more. But as far as I can tell, the equation above for the stationary probability distribution ($\\exp(H(\\mathbf{x}) / D$) is correct (Gardiner, 1985, p. 146-147; Haken, 1983, p.167). The system is obviously (see below) not behaving like this stationary probability distribution suggests, so I'm not sure what to do..."
   ]
  },
  {
   "cell_type": "code",
   "execution_count": 34,
   "metadata": {},
   "outputs": [
    {
     "name": "stdout",
     "output_type": "stream",
     "text": [
      "Zeros of H(x):\n",
      "0.00980818221116895\n",
      "0.946987052050338\n",
      "Local harmony minimum: x = 0.682037019275867\n"
     ]
    }
   ],
   "source": [
    "# With this harmony function, the fixed points aren't exactly at 0 and 1; they get pulled together a \n",
    "# bit due to the summing of their Gaussians. So we first find the zeros of dxdt:\n",
    "x0 = nsolve(dxdt, x, 0)  # using a numeric solver\n",
    "x1 = nsolve(dxdt, x, 1)\n",
    "print('Zeros of H(x):\\n{}\\n{}'.format(*[x0, x1]))\n",
    "\n",
    "# Finding harmony minimum between x0 and x1\n",
    "xmid = nsolve(dxdt, x, 0.5)\n",
    "print('Local harmony minimum: x = {}'.format(xmid))"
   ]
  },
  {
   "cell_type": "code",
   "execution_count": 35,
   "metadata": {},
   "outputs": [
    {
     "data": {
      "image/png": "[encoded data removed]",
      "text/latex": [
       "$$1.47487987420837 \\cdot 10^{21}$$"
      ],
      "text/plain": [
       "1.47487987420837e+21"
      ]
     },
     "execution_count": 35,
     "metadata": {},
     "output_type": "execute_result"
    }
   ],
   "source": [
    "# Now we can calculate the ratio of the probabilities of x0 to x1 (Cho et al., 2018)\n",
    "ratio = Ps.subs(x, x0) / Ps.subs(x, x1)\n",
    "ratio"
   ]
  },
  {
   "cell_type": "code",
   "execution_count": 36,
   "metadata": {},
   "outputs": [
    {
     "name": "stdout",
     "output_type": "stream",
     "text": [
      "Relative probabilities:\n",
      "x0 = 1.00000000000000\n",
      "x1 = 6.78021320574831E-22\n",
      "Difference in harmony: H(x0) - H(x1) = 0.487428634981355\n"
     ]
    }
   ],
   "source": [
    "# Calculating the relative probabilities of each attractor:\n",
    "p0 = Ps.subs(x, x0) / (Ps.subs(x, x0) + Ps.subs(x, x1))\n",
    "p1 = Ps.subs(x, x1) / (Ps.subs(x, x0) + Ps.subs(x, x1))\n",
    "print('Relative probabilities:\\nx0 = {}\\nx1 = {}'.format(*[p0, p1]))\n",
    "print('Difference in harmony: H(x0) - H(x1) = {}'.format(H.subs(x, x0) - H.subs(x, x1)))"
   ]
  },
  {
   "cell_type": "code",
   "execution_count": 37,
   "metadata": {},
   "outputs": [
    {
     "name": "stdout",
     "output_type": "stream",
     "text": [
      "Analytical relative probabilities:\n",
      "x0 = 0.509567729424510\n",
      "x1 = 0.490432270575489\n"
     ]
    }
   ],
   "source": [
    "# From Gardiner (1985, p. 346, eq. 9.1.21)\n",
    "lin = dxdt.diff(x)  # linearization of the dynamics/second derivative of the harmony function\n",
    "# this approximates how far off the numerically-found location xmid is from the actual midpoint\n",
    "# Because it's positive, that means we're starting just to the left of the midpoint\n",
    "err = 0.001\n",
    "pan1 = 0.5*(1 - erf(err * sqrt(lin.subs(x, xmid) / D)))\n",
    "pan0 = 1 - pan1\n",
    "print('Analytical relative probabilities:\\nx0 = {}\\nx1 = {}'.format(*[pan0, pan1]))"
   ]
  },
  {
   "cell_type": "markdown",
   "metadata": {},
   "source": [
    "So, this approach predicts that an SOSP parser using this harmony landscape should approach the attractor at x=0 about XX% of the time and x=1 YY% of the time, if it starts about halfway between them.\n",
    "\n",
    "Now, we can look at how fast the system should approach each attractor. To do this, we simply find the lowest-magnitude eigenvalue $\\lambda$ of the linearized dynamics at each fixed point. Then, $1/\\vert\\lambda\\vert$ gives the characteristic time scale of that attractor."
   ]
  },
  {
   "cell_type": "code",
   "execution_count": 38,
   "metadata": {},
   "outputs": [
    {
     "name": "stdout",
     "output_type": "stream",
     "text": [
      "Characteristic time scales:\n",
      "x0 = 0.134252475599886\n",
      "x1 = 0.400119331764113\n",
      "\n",
      "Eigenvalues:\n",
      "x0 = 7.44865221688954\n",
      "x1 = 2.49925439890903\n"
     ]
    }
   ],
   "source": [
    "char0 = abs(lin.subs(x, x0))\n",
    "char1 = abs(lin.subs(x, x1))\n",
    "print('Characteristic time scales:\\nx0 = {}\\nx1 = {}'.format(*[1/char0, 1/char1]))\n",
    "print('\\nEigenvalues:\\nx0 = {}\\nx1 = {}'.format(*[char0, char1]))"
   ]
  },
  {
   "cell_type": "markdown",
   "metadata": {},
   "source": [
    "As we can see, the characteristic time scale for the attractor near x = 0 is faster (closer to zero) than that of the attractor near x = 1. Thus, we expect faster processing times when the system \"chooses\" x0 compared to x1. Now we can test these predictions using simulations of the system."
   ]
  },
  {
   "cell_type": "code",
   "execution_count": 39,
   "metadata": {},
   "outputs": [
    {
     "name": "stdout",
     "output_type": "stream",
     "text": [
      "Time to settle:\n",
      "x0: 1.55800465900247\n",
      "x1: 2.34189845119897\n"
     ]
    }
   ],
   "source": [
    "# A different naive approach based on Strogatz p. 98\n",
    "# Have to put them just off of the fixed points, otherwise the times diverge to infinity\n",
    "Tx0 = Integral(1 / dxdt, (x, xmid-0.01, x0+0.01)).evalf()\n",
    "Tx1 = Integral(1 / dxdt, (x, xmid+0.01, x1-0.01)).evalf()\n",
    "#display(Tx0, Tx1)\n",
    "print('Time to settle:\\nx0: {}\\nx1: {}'.format(Tx0, Tx1))"
   ]
  },
  {
   "cell_type": "code",
   "execution_count": 43,
   "metadata": {},
   "outputs": [
    {
     "name": "stdout",
     "output_type": "stream",
     "text": [
      "T(xmid, x0) = 1.07428767364526\n",
      "T(xmid, x1) = -1.56000000000000\n"
     ]
    }
   ],
   "source": [
    "# The approach sketched above\n",
    "xinit, xfin, t = symbols('xinit xfin t')\n",
    "x_t = (1 - t)*xinit + t*xfin\n",
    "denom = (-2.*h0 / gamma)*(x_t)*exp(-x_t**2 / gamma) + (-2.*h1 / gamma)*(x_t-1)*exp(-(x_t-1)**2 / gamma)\n",
    "lineint0 = ((xmid-0.4) - (xmid-0.01)) * Integral(1 / denom, (t, 0, 1)).subs([(xinit, xmid-0.01), (xfin, xmid-0.4)]).evalf()\n",
    "print('T(xmid, x0) = {}'.format(lineint0))\n",
    "lineint1 = ((xmid+0.4) - (xmid+0.01)) * Integral(1 / denom, (t, 0, 1)).subs([(xinit, xmid+0.01), (xfin, xmid+0.4)]).evalf()\n",
    "print('T(xmid, x1) = {}'.format(lineint1))"
   ]
  },
  {
   "cell_type": "code",
   "execution_count": 41,
   "metadata": {},
   "outputs": [
    {
     "name": "stdout",
     "output_type": "stream",
     "text": [
      "[0] [500] [1000] [1500] [2000] [2500] [3000] [3500] [4000] [4500] "
     ]
    }
   ],
   "source": [
    "import numpy as np\n",
    "import matplotlib.pyplot as plt\n",
    "from itertools import product\n",
    "\n",
    "centers = np.array([0, 1])\n",
    "harmonies = np.array([2., 1])\n",
    "#gamma = 0.15\n",
    "ndim = 1\n",
    "#noisemag = 0.1  # D above\n",
    "maxsteps = 1000\n",
    "tau = 0.01\n",
    "xinit = np.float(xmid)  # starting at the midpoint between the two attractors\n",
    "\n",
    "\n",
    "# Defining phi function\n",
    "def phi(x, center, gamma):\n",
    "    l2norm = np.linalg.norm(x - center)\n",
    "    return np.exp(-l2norm**2 / gamma)\n",
    "\n",
    "\n",
    "def calc_harmony(x, centers, harmonies, gamma):\n",
    "    harmony = 0\n",
    "    for c in range(centers.shape[0]):\n",
    "        harmony += harmonies[c] * phi(x, centers[c], gamma)\n",
    "    return harmony\n",
    "\n",
    "\n",
    "# A function for updating the state of the system according to the negative\n",
    "# gradient of the harmony function\n",
    "def step_dyn(x, centers, harmonies, gamma):\n",
    "    dx = np.zeros(x.shape)\n",
    "    mult = -2./gamma\n",
    "    for c in range(centers.shape[0]):\n",
    "        dx += (mult * harmonies[c]\n",
    "               * (x - centers[c]) * phi(x, centers[c], gamma))\n",
    "    return dx\n",
    "\n",
    "\n",
    "# Are we close to an attractor?\n",
    "def not_close(x, centers, tol):\n",
    "    l2norm = np.zeros(centers.shape[0])\n",
    "    for c in range(centers.shape[0]):\n",
    "        diff = x - centers[c]\n",
    "        l2norm[c] = np.sqrt(np.dot(diff, diff))\n",
    "    if np.any(l2norm < tol):\n",
    "        return False\n",
    "    else:\n",
    "        return True\n",
    "\n",
    "# Running\n",
    "xhist = np.zeros(maxsteps)\n",
    "nruns = 5000\n",
    "data = np.zeros((nruns, 2))  # first column for which attr, second for time\n",
    "\n",
    "for run in range(nruns):\n",
    "    if run % 500 == 0:\n",
    "        print('[{}] '.format(run), end='')\n",
    "    xhist[0] = xinit\n",
    "    noise = np.random.normal(0, 1, xhist.shape)\n",
    "    t = 0\n",
    "    while t < maxsteps-1:\n",
    "        if not_close(xhist[t], centers, 0.1):\n",
    "            xhist[t+1] = (xhist[t] + tau*step_dyn(xhist[t], centers, harmonies, gamma)\n",
    "                      + np.sqrt(2*D*tau)*noise[t])\n",
    "            t += 1\n",
    "        else:\n",
    "            break\n",
    "    data[run, :] = [np.round(xhist[t]), t]\n",
    "\n",
    "if nruns == 1:\n",
    "    plt.plot(xhist)\n",
    "    plt.show()\n"
   ]
  },
  {
   "cell_type": "code",
   "execution_count": 42,
   "metadata": {},
   "outputs": [
    {
     "name": "stdout",
     "output_type": "stream",
     "text": [
      "\n",
      "Proportion of x0 runs:\t\t0.544 (Gardiner predicted: 0.509567729424510)\n",
      "Ratio of x0 runs to x1 runs:\t1.1929824561403508 (st. prob. distr. predicted: 1.47487987420837E+21)\n",
      "\n",
      "Mean RT for x0:\t\t\t55.600367647058825\n",
      "Line integral prediction:\t1.12937934921682\n",
      "Mean RT for x1:\t\t\t62.33289473684211\n",
      "Line integral prediction:\t-1.64000000000000\n",
      "Ratio of x1 to x0 RTs:\t\t1.1210878160468318 (Char. time scales predicted: 2.98034974756512)\n"
     ]
    }
   ],
   "source": [
    "# Now looking at the data\n",
    "mean0 = np.mean(data[np.where(data[:,0] == 0), 1])\n",
    "mean1 = np.mean(data[np.where(data[:,0] == 1), 1])\n",
    "ratio_emp = data[np.where(data[:,0] == 0), 0].shape[1] / data[np.where(data[:,0] == 1), 0].shape[1]\n",
    "print('\\nProportion of x0 runs:\\t\\t{} (Gardiner predicted: {})'.format(1-np.mean(data[:, 0]), pan0))\n",
    "print('Ratio of x0 runs to x1 runs:\\t{} (st. prob. distr. predicted: {})'.format(ratio_emp, ratio))\n",
    "print('\\nMean RT for x0:\\t\\t\\t{}'.format(mean0))\n",
    "print('Line integral prediction:\\t{}'.format(lineint0))\n",
    "print('Mean RT for x1:\\t\\t\\t{}'.format(mean1))\n",
    "print('Line integral prediction:\\t{}'.format(lineint1))\n",
    "print('Ratio of x1 to x0 RTs:\\t\\t{} (Char. time scales predicted: {})'.format(mean1 / mean0, (1/char1) / (1/char0)))\n",
    "#print('Ratio of x1 to x0 RTs:\\t\\t{} (Strogatz predicted: {})'.format(mean1 / mean0, Tx1 / Tx0))\n",
    "\n"
   ]
  },
  {
   "cell_type": "markdown",
   "metadata": {},
   "source": [
    "## Discussion\n",
    "The simulations of the simple SOSP system behave as we would expect: the system settles faster and more often to the higher-harmony attractor (x0) than to x1. This general pattern is predicted *qualitatively* by the characteristic time-scale analysis and by the splitting probability analysis from Gardiner (which only applies in 1D). The qualitative fit is encouraging, but the whole point of this is *quantitative* predictions.\n",
    "\n",
    "### What kinda works\n",
    "1. Using the characteristic time scales to predict reading times at least gets the ordering (faster/slower) correct, although I'm still not sure how to compare these to human or simulation reading times. Ratios don't seem to work, so what's the best mapping?\n",
    "2. The simple integration approach for settling times does reasonably well as long as I don't set the start and end points of the integration to be exactly at the fixed points.\n",
    "3. The Gardiner approach to splitting probabilites provides reasonable predictions for the actual distribution over final states, although (major caveat!) I arbitrarily guessed at the difference between the numerical calculation of the harmony minimum and its actual location.\n",
    "\n",
    "### What doesn't really work\n",
    "1. ~~Going from the harmony function to the stationary probability distribution can't be right because it doesn't reflect the actual behavior of the system. If it did, the system would settle to x0 almost every time.~~ The stationary probability distribution is only valid for $t \\rightarrow \\infty$, so what it predicts is probably reasonable if we let the system settle for a very long time.\n",
    "2. The splitting probabilities equation from Gardiner is only valid for 1D, and the method I tried for getting the ratio of x0 to x1 parses and the relative probabilities didn't work because they're based on the stationary probability distribution.\n"
   ]
  },
  {
   "cell_type": "code",
   "execution_count": null,
   "metadata": {
    "collapsed": true
   },
   "outputs": [],
   "source": []
  }
 ],
 "metadata": {
  "kernelspec": {
   "display_name": "Python [conda root]",
   "language": "python",
   "name": "conda-root-py"
  },
  "language_info": {
   "codemirror_mode": {
    "name": "ipython",
    "version": 3
   },
   "file_extension": ".py",
   "mimetype": "text/x-python",
   "name": "python",
   "nbconvert_exporter": "python",
   "pygments_lexer": "ipython3",
   "version": "3.5.4"
  }
 },
 "nbformat": 4,
 "nbformat_minor": 2
}
