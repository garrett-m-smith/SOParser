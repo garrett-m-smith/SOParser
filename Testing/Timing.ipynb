{
 "cells": [
  {
   "cell_type": "markdown",
   "metadata": {},
   "source": [
    "# Testing an approach to timing and parse probabilities\n",
    "\n",
    "For noiseless dynamical systems, $1 /\\vert\\lambda\\vert$, where $\\lambda$ is the smallest-magnitude eigenvalue of a stable fixed point, gives the characteristic time scale of that fixed point. Attractors with higher-magnitude $\\lambda$s pull the system faster than attractors with smaller $\\lambda$s. For SOSP, then, we should expect differences in reading times between two alternative parses if their characteristic time scales are different. With a noisy system, this property should still hold as long as the magnitude of the noise is small enough, e.g., maybe if the eigenvalues of the noise matrix are smaller in magnitude than those of the linearized noiseless dynamics?\n",
    "\n",
    "A simple approach to relative parse probabilities: After reading a word, the state of an SOSP parser will be somewhere between attractors, likely near a separatrix between two or more attractor basins. The system will then settle toward an attractor until it gets sufficiently close. To estimate analytically which attractors are most likely, we decide in advance which attractors are most relevant, e.g., the nearest $n$ parses. We then estimate the probability of being in each parse by integrating the stationary probability distribution over a small area containing the harmony peak for that parse. The relative probability of each parse is then just this integral divided by the sum of all relevant integrals.\n",
    "\n",
    "To estimate the overall average reading time, we simply take the weighted average of the characteristic time scales of the relevant attractors weighted by their relative probabilities.\n",
    "\n",
    "## A simple test system\n",
    "\n",
    "Here, I'll consider a 1D example to test this approach. The noiseless harmony function is\n",
    "$$\n",
    "H(\\mathbf{x}) = \\sum_{i \\in {0, 1}} h_i\\phi_i(\\mathbf{x}) = h_0\\exp\\left(-\\frac{x^2}{\\gamma} \\right) + h_1\\exp\\left(-\\frac{(x-1)^2}{\\gamma} \\right)\n",
    "$$\n",
    "The $h_i$ are the local harmony values for each peak (here, $h_0 = 2$ and $h_1 = 1$), and $\\gamma = 0.15$ is a parameter that sets the widths of the peaks.\n",
    "\n",
    "The dynamics of the system is given by the gradient of the harmony function:\n",
    "$$\n",
    "\\mathbf{\\dot{x}} = \\nabla H(\\mathbf{x}) = -\\frac{2 h_0}{\\gamma} x \\exp\\left(-\\frac{x^2}{\\gamma} \\right) - \\frac{2 h_1}{\\gamma} (x - 1) \\exp\\left(-\\frac{(x-1)^2}{\\gamma} \\right)\n",
    "$$\n",
    "\n",
    "The linearization (which in this case is equivalent to the Hessian matrix of $H$) is tedious to calculate by hand, so I'll let SymPy do it for me below.\n",
    "\n",
    "With a Gaussian noise term $dW \\sim N(0, D)$ added, the final harmony function, which we can use to derive the stationary probability distribution, is:\n",
    "$$\n",
    "H(\\mathbf{x}) = \\sum_{i \\in {0, 1}} h_i\\phi_i(\\mathbf{x}) + \\sqrt{2D}dW\n",
    "$$\n",
    "\n",
    "This is a Langevin equation for which the associated Fokker-Planck equation is (Gardiner, 1985):\n",
    "$$\n",
    "\\frac{\\partial P(\\mathbf{x}, t)}{\\partial t} = -\\frac{\\partial \\nabla H}{\\partial x} P(\\mathbf{x}, t) + \\frac{\\partial^2 D P(\\mathbf{x}, t)}{\\partial x^2}\n",
    "$$\n",
    "\n",
    "The stationary solution for this Fokker-Planck equation is:\n",
    "$$\n",
    "P_s(\\mathbf{x}) = \\mathcal{N}^{-1} \\exp\\left(H(\\mathbf{x}) / D \\right) \\propto \\exp\\left(H\\mathbf{x} / D \\right)\n",
    "$$\n",
    "where $\\mathcal{N}$ is a normalization constant that ensures $\\int P_x dx = 1$. We can use $\\mathcal{N} = \\int \\exp\\left(H(\\mathbf{x})/D\\right)dx$\n",
    "\n",
    "***\n",
    "Now, let's turn to SymPy to start analyzing this system."
   ]
  },
  {
   "cell_type": "code",
   "execution_count": 394,
   "metadata": {},
   "outputs": [],
   "source": [
    "from sympy import *\n",
    "init_printing()  # Makes the outputs look nicer\n",
    "from IPython.display import display\n",
    "\n",
    "x, h0, h1, gamma, D = symbols('x h0 h1 gamma D')\n",
    "h0 = 2.0\n",
    "h1 = 1.0\n",
    "D = 1.0\n",
    "gamma = 0.2\n",
    "\n",
    "H = h0*exp(-x**2 / gamma) + h1*exp(-(x-1)**2 / gamma)  # defining the harmony function\n",
    "#print('H =')\n",
    "#display(H)\n",
    "\n",
    "dxdt = diff(H, x)  # taking the gradient of H wrt. x\n",
    "#print('\\ndx/dt = ')\n",
    "#display(dxdt)"
   ]
  },
  {
   "cell_type": "markdown",
   "metadata": {},
   "source": [
    "Next, we set up the stationary probability distribution and find its normalization:"
   ]
  },
  {
   "cell_type": "code",
   "execution_count": 395,
   "metadata": {},
   "outputs": [],
   "source": [
    "# The unnormalized stationary probability distribution, with values substituted in for the various parameters\n",
    "Punnrom = exp(H / D)\n",
    "# Finding the normalization; note the end points of the integration were chosen basically arbitrarily\n",
    "normalization = Integral(Punnorm, (x, -2, 3)).evalf()  # Takes < a minute to evaluate the integral\n",
    "normalization\n",
    "Ps = (1 / normalization) * Punnorm"
   ]
  },
  {
   "cell_type": "code",
   "execution_count": 396,
   "metadata": {},
   "outputs": [
    {
     "name": "stdout",
     "output_type": "stream",
     "text": [
      "Zeros of H(x):\n",
      "0.00347601376330667\n",
      "0.984510061511192\n",
      "Local harmony minimum: x = 0.616996743454593\n"
     ]
    }
   ],
   "source": [
    "# With this harmony function, the fixed points aren't exactly at 0 and 1, though; they get pulled together a \n",
    "# bit due to the summing of their Gaussians. So we first find the zeros of dxdt:\n",
    "x0 = nsolve(dxdt, x, 0)  # using a numeric solver\n",
    "x1 = nsolve(dxdt, x, 1)\n",
    "print('Zeros of H(x):\\n{}\\n{}'.format(*[x0, x1]))\n",
    "\n",
    "# Finding harmony minimum between x0 and x1\n",
    "xmid = nsolve(dxdt, x, 0.5)\n",
    "print('Local harmony minimum: x = {}'.format(xmid))"
   ]
  },
  {
   "cell_type": "code",
   "execution_count": 397,
   "metadata": {},
   "outputs": [
    {
     "data": {
      "image/png": "[encoded data removed]",
      "text/latex": [
       "$$21948.616891349$$"
      ],
      "text/plain": [
       "21948.6168913490"
      ]
     },
     "execution_count": 397,
     "metadata": {},
     "output_type": "execute_result"
    }
   ],
   "source": [
    "# Now we can calculate the ratio of the probabilities of x0 to x1 (Cho et al., 2018)\n",
    "#ratio = exp((H.subs(x, x0) - H.subs(x, x1)) / D)\n",
    "#ratio\n",
    "ratio = Ps.subs(x, x0) / Ps.subs(x, x1)\n",
    "ratio"
   ]
  },
  {
   "cell_type": "code",
   "execution_count": 398,
   "metadata": {},
   "outputs": [
    {
     "name": "stdout",
     "output_type": "stream",
     "text": [
      "Relative probabilities:\n",
      "x0 = 0.999954441118269\n",
      "x1 = 0.0000455588817312858\n"
     ]
    }
   ],
   "source": [
    "# Now we can calculate the relative probabilities of each attractor:\n",
    "#Psubs = Punnorm.subs([(gamma, 0.15), (h0, 2), (h1, 1), (D, 0.1)])  # substituting in parameter values\n",
    "#Ps = normalization**-1 * Punnorm\n",
    "#display(Ps)\n",
    "p0 = Psubs.subs(x, x0) / (Psubs.subs(x, x0) + Psubs.subs(x, x1))\n",
    "#p0 = Punnorm.subs(x, x0) / (Punnorm.subs(x, x0) + Punnorm.subs(x, x1))\n",
    "#p1 = Punnorm.subs(x, x1) / (Punnorm.subs(x, x0) + Punnorm.subs(x, x1))\n",
    "#p0 = Ps.subs(x, x0) / (Ps.subs(x, x0) + Ps.subs(x, x1))  # Works, but doesn't accord with the simulations...\n",
    "p1 = Ps.subs(x, x1) / (Ps.subs(x, x0) + Ps.subs(x, x1))\n",
    "#print('Relative probabilities:\\nx0 = {}\\nx1 = {}'.format(*[p0, p1]))\n",
    "\n",
    "# Trying original integration idea\n",
    "#px0 = Integral(Ps, (x, x0-0.1, x0+0.1)).evalf()\n",
    "#px1 = Integral(Ps, (x, x1-0.1, x1+0.1)).evalf()\n",
    "#print(px0, px1)\n",
    "#p0 = px0 / (px0 + px1)\n",
    "#p1 = px1 / (px0 + px1)\n",
    "print('Relative probabilities:\\nx0 = {}\\nx1 = {}'.format(*[p0, p1]))"
   ]
  },
  {
   "cell_type": "code",
   "execution_count": 399,
   "metadata": {},
   "outputs": [
    {
     "name": "stdout",
     "output_type": "stream",
     "text": [
      "Analytical relative probabilities:\n",
      "x0 = 0.505811211310515\n",
      "x1 = 0.494188788689485\n"
     ]
    }
   ],
   "source": [
    "# From Gardiner (1985, p. 346, eq. 9.1.21)\n",
    "lin = dxdt.diff(x)  # linearization of the dynamics/second derivative of the harmony function\n",
    "# this approximates how far off the numerically-found location xmid is from the actual midpoint\n",
    "# Because it's positive, that means we're starting just to the right of the midpoint\n",
    "err = 0.001\n",
    "pan1 = 0.5*(1 - erf(err * sqrt(lin.subs(x, xmid) / 0.1)))\n",
    "pan0 = 1 - pan1\n",
    "print('Analytical relative probabilities:\\nx0 = {}\\nx1 = {}'.format(*[pan0, pan1]))"
   ]
  },
  {
   "cell_type": "markdown",
   "metadata": {},
   "source": [
    "Great! So, this approach predicts that an SOSP parser using this harmony landscape should approach the attractor at x=0 about 73% of the time and x=1 27% of the time, if it starts about halfway between them.\n",
    "\n",
    "Now, we can look at how fast the system should approach each attractor. To do this, we simply find the lowest-magnitude eigenvalue $\\lambda$ of the linearized dynamics at each fixed point. Then, $1/\\vert\\lambda\\vert$ gives the characteristic time scale of that attractor."
   ]
  },
  {
   "cell_type": "code",
   "execution_count": 400,
   "metadata": {},
   "outputs": [
    {
     "name": "stdout",
     "output_type": "stream",
     "text": [
      "Characteristic time scales:\n",
      "x0 = 0.0516171935881239\n",
      "x1 = 0.116305826729635\n"
     ]
    }
   ],
   "source": [
    "char0 = abs(lin.subs(x, x0))\n",
    "char1 = abs(lin.subs(x, x1))\n",
    "print('Characteristic time scales:\\nx0 = {}\\nx1 = {}'.format(*[1/char0, 1/char1]))"
   ]
  },
  {
   "cell_type": "markdown",
   "metadata": {},
   "source": [
    "As we can see, the characteristic time scale for the attractor near x = 0 is faster (closer to zero) than that of the attractor near x = 1. Thus, we expect faster processing times when the system \"chooses\" x0 compared to x1. Now we can test these predictions using simulations of the system. \n",
    "\n",
    "(Something to keep an eye on is what $D$, the noise magnitude is doing...)"
   ]
  },
  {
   "cell_type": "code",
   "execution_count": 401,
   "metadata": {},
   "outputs": [
    {
     "name": "stdout",
     "output_type": "stream",
     "text": [
      "[0] [500] [1000] [1500] [2000] [2500] [3000] [3500] [4000] [4500] "
     ]
    }
   ],
   "source": [
    "import numpy as np\n",
    "import matplotlib.pyplot as plt\n",
    "from itertools import product\n",
    "\n",
    "centers = np.array([0, 1])\n",
    "harmonies = np.array([2., 1])\n",
    "#gamma = 0.15\n",
    "ndim = 1\n",
    "#noisemag = 0.1  # D above\n",
    "maxsteps = 1000\n",
    "tau = 0.01\n",
    "xinit = np.float(xmid)  # starting at the midpoint between the two attractors\n",
    "\n",
    "\n",
    "# Defining phi function\n",
    "def phi(x, center, gamma):\n",
    "    l2norm = np.linalg.norm(x - center)\n",
    "    return np.exp(-l2norm**2 / gamma)\n",
    "\n",
    "\n",
    "def calc_harmony(x, centers, harmonies, gamma):\n",
    "    harmony = 0\n",
    "    for c in range(centers.shape[0]):\n",
    "        harmony += harmonies[c] * phi(x, centers[c], gamma)\n",
    "    return harmony\n",
    "\n",
    "\n",
    "# A function for updating the state of the system according to the negative\n",
    "# gradient of the harmony function\n",
    "def step_dyn(x, centers, harmonies, gamma):\n",
    "    dx = np.zeros(x.shape)\n",
    "    mult = -2./gamma\n",
    "    for c in range(centers.shape[0]):\n",
    "        dx += (mult * harmonies[c]\n",
    "               * (x - centers[c]) * phi(x, centers[c], gamma))\n",
    "    return dx\n",
    "\n",
    "\n",
    "# Are we close to an attractor?\n",
    "def not_close(x, centers, tol):\n",
    "    l2norm = np.zeros(centers.shape[0])\n",
    "    for c in range(centers.shape[0]):\n",
    "        diff = x - centers[c]\n",
    "        l2norm[c] = np.sqrt(np.dot(diff, diff))\n",
    "    if np.any(l2norm < tol):\n",
    "        return False\n",
    "    else:\n",
    "        return True\n",
    "\n",
    "# Running\n",
    "xhist = np.zeros(maxsteps)\n",
    "nruns = 5000\n",
    "data = np.zeros((nruns, 2))  # first column for which attr, second for time\n",
    "\n",
    "for run in range(nruns):\n",
    "    if run % 500 == 0:\n",
    "        print('[{}] '.format(run), end='')\n",
    "    xhist[0] = xinit\n",
    "    noise = np.random.normal(0, 1, xhist.shape)\n",
    "    t = 0\n",
    "    while t < maxsteps-1:\n",
    "        if not_close(xhist[t], centers, 0.1):\n",
    "            xhist[t+1] = (xhist[t] + tau*step_dyn(xhist[t], centers, harmonies, gamma)\n",
    "                      + np.sqrt(2*D*tau)*noise[t])\n",
    "            t += 1\n",
    "        else:\n",
    "            break\n",
    "    data[run, :] = [np.round(xhist[t]), t]\n",
    "\n",
    "if nruns == 1:\n",
    "    plt.plot(xhist)\n",
    "    plt.show()\n"
   ]
  },
  {
   "cell_type": "code",
   "execution_count": 402,
   "metadata": {},
   "outputs": [
    {
     "name": "stdout",
     "output_type": "stream",
     "text": [
      "\n",
      "Proportion of x0 runs:\t\t0.44820000000000004 (predicted: 0.505811211310515)\n",
      "Ratio of x0 runs to x1 runs:\t0.8367046708348658 (predicted: 21948.6168913490)\n",
      "\n",
      "Mean RT for x0:\t\t\t12.029010989010988\n",
      "Mean RT for x1:\t\t\t8.77418168444281\n",
      "Ratio of x1 to x0 RTs:\t\t0.7294183779912079 (predicted: 2.25323809073562)\n"
     ]
    }
   ],
   "source": [
    "# Now looking at the data\n",
    "mean0 = np.mean(data[np.where(data[:,0] == 0), 1])\n",
    "mean1 = np.mean(data[np.where(data[:,0] == 1), 1])\n",
    "ratio_emp = data[np.where(data[:,0] == 0), 0].shape[1] / data[np.where(data[:,0] == 1), 0].shape[1]\n",
    "print('\\nProportion of x0 runs:\\t\\t{} (predicted: {})'.format(1-np.mean(data[:, 0]), pan0))\n",
    "print('Ratio of x0 runs to x1 runs:\\t{} (predicted: {})'.format(ratio_emp, ratio))\n",
    "print('\\nMean RT for x0:\\t\\t\\t{}'.format(mean0))\n",
    "print('Mean RT for x1:\\t\\t\\t{}'.format(mean1))\n",
    "print('Ratio of x1 to x0 RTs:\\t\\t{} (predicted: {})'.format(mean1 / mean0, (1/char1) / (1/char0)))\n"
   ]
  },
  {
   "cell_type": "code",
   "execution_count": 403,
   "metadata": {},
   "outputs": [
    {
     "data": {
      "image/png": "[encoded data removed]",
      "text/plain": [
       "<matplotlib.figure.Figure at 0x10f021c50>"
      ]
     },
     "metadata": {},
     "output_type": "display_data"
    }
   ],
   "source": [
    "# Looking at the harmony landscape\n",
    "xrange = np.arange(-1., 2, 0.01)\n",
    "harmony = np.zeros(xrange.shape)\n",
    "for i in range(len(xrange)):\n",
    "    harmony[i] = calc_harmony(xrange[i], centers, harmonies, gamma)\n",
    "plt.plot(xrange, harmony)\n",
    "plt.title('Harmony landscape')\n",
    "plt.ylabel('Harmony')\n",
    "plt.show()"
   ]
  },
  {
   "cell_type": "code",
   "execution_count": 404,
   "metadata": {},
   "outputs": [
    {
     "data": {
      "image/png": "[encoded data removed]",
      "text/plain": [
       "<matplotlib.figure.Figure at 0x11835f240>"
      ]
     },
     "metadata": {},
     "output_type": "display_data"
    }
   ],
   "source": [
    "# Now plotting the stationary probability distribution Ps\n",
    "Psnum = lambdify(x, Ps)\n",
    "probs = np.zeros(xrange.shape)\n",
    "for i in range(len(xrange)):\n",
    "    probs[i] = Psnum(xrange[i])\n",
    "plt.plot(xrange, probs)\n",
    "plt.title('Stationary probability distribution')\n",
    "plt.ylabel('Probability density')\n",
    "plt.show()"
   ]
  },
  {
   "cell_type": "markdown",
   "metadata": {},
   "source": [
    "## Discussion\n",
    "In accordance with the analytical predictions, the system settled slightly more often to the fixed point at x = 0 that to x = 1, and it was also faster in settling to x = 0 than x = 1. The proportions predicted by the Gardiner (1985) equation are particularly promising, although there is still some very naive approximating there on my part. Open issues:\n",
    "1. The simple approach I proposed in the introduction for calculating relative probabilities seems to be way off.\n",
    "2. As I mentioned, I simply guessed at a deviation from the actual harmony minimum in the Gardiner calculation. For scaling up, I haven't been able to find anything on splitting probabilities in higher dimensions.\n",
    "3. It's not clear how to map from characteristic time scales to actual RTs. Using a more sophisticated approach (e.g., mean exit times; Gardiner, Ch. 9.3.2) might give a better approximation, but the math gets hard pretty fast.\n",
    "\n",
    "**Problem seems to be in how the probability distribution function is being calculated. Check carefully!!**"
   ]
  },
  {
   "cell_type": "code",
   "execution_count": null,
   "metadata": {
    "collapsed": true
   },
   "outputs": [],
   "source": []
  }
 ],
 "metadata": {
  "kernelspec": {
   "display_name": "Python [conda root]",
   "language": "python",
   "name": "conda-root-py"
  },
  "language_info": {
   "codemirror_mode": {
    "name": "ipython",
    "version": 3
   },
   "file_extension": ".py",
   "mimetype": "text/x-python",
   "name": "python",
   "nbconvert_exporter": "python",
   "pygments_lexer": "ipython3",
   "version": "3.5.4"
  }
 },
 "nbformat": 4,
 "nbformat_minor": 2
}
