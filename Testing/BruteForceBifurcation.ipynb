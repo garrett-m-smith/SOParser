{
 "cells": [
  {
   "cell_type": "markdown",
   "metadata": {},
   "source": [
    "# Brute force bifurcation analysis\n",
    "\n",
    "I couldn't figure out how to use PyDSTool for more formal continuation/numerical bifuration analysis, so what I'll do here (using a 2D system) is, for each ($\\gamma$, $h1$) pair in (0, 1) for both, I'll use SymPy's numerical solvers to find the all three possible zeros of the system"
   ]
  },
  {
   "cell_type": "code",
   "execution_count": 31,
   "metadata": {},
   "outputs": [],
   "source": [
    "# Setting up things in SymPy\n",
    "from sympy import *\n",
    "from IPython.display import display\n",
    "\n",
    "# Declaring scalars\n",
    "# x0, x1 are the dimensions\n",
    "x0, x1, h0, h1, gamma = symbols('x0 x1 h0 h1 gamma')  # make these formal symbols for SymPy to manipulate\n",
    "h0 = 1.0\n",
    "#h1 = 1.0\n",
    "#gamma = 0.25\n",
    "\n",
    "# Declaring vectors\n",
    "x = Matrix([x0, x1])  # state vector\n",
    "cg = Matrix([1, 0])  # centers of the RBFs\n",
    "cu = Matrix([0, 1])\n",
    "\n",
    "H = h0*exp(-(x-cg).dot(x-cg) / gamma) + h1*exp(-(x-cu).dot(x-cu) / gamma)  # defining the harmony function\n",
    "dxdt = Matrix([diff(H, i) for i in x])"
   ]
  },
  {
   "cell_type": "code",
   "execution_count": 71,
   "metadata": {},
   "outputs": [],
   "source": [
    "# Running the simulations\n",
    "import numpy as np\n",
    "import pandas as pd\n",
    "from itertools import product\n",
    "gvec = np.arange(0.1, 0.5, 0.1)\n",
    "hvec =  np.arange(0.05, 1.0, 0.15)\n",
    "\n",
    "data = []\n",
    "for g, h in product(gvec, hvec):\n",
    "    #if g == gvec[0] and h == hvec[0]:\n",
    "    xg0 = (1, 0)\n",
    "    xu0 = (0, 1)\n",
    "    xmid0 = (0.5, 0.5)\n",
    "    #else:\n",
    "        #xg0 = (data[-1][2], data[-1][3])\n",
    "        #xmid0 = (data[-1][4], data[-1][5])\n",
    "        #xu0 = (data[-1][6], data[-1][7])\n",
    "    xg = list(nsolve(dxdt.subs([(h1, h), (gamma, g)]), x, xg0, verify=False))\n",
    "    xu = list(nsolve(dxdt.subs([(h1, h), (gamma, g)]), x, xu0, verify=False))\n",
    "    xmid = list(nsolve(dxdt.subs([(h1, h), (gamma, g)]), x, xmid0, verify=False))\n",
    "    data.append([g, h, xg[0], xg[1], xmid[0], xmid[1], xu[0], xu[1]])"
   ]
  },
  {
   "cell_type": "code",
   "execution_count": 72,
   "metadata": {},
   "outputs": [
    {
     "data": {
      "text/html": [
       "<div>\n",
       "<style>\n",
       "    .dataframe thead tr:only-child th {\n",
       "        text-align: right;\n",
       "    }\n",
       "\n",
       "    .dataframe thead th {\n",
       "        text-align: left;\n",
       "    }\n",
       "\n",
       "    .dataframe tbody tr th {\n",
       "        vertical-align: top;\n",
       "    }\n",
       "</style>\n",
       "<table border=\"1\" class=\"dataframe\">\n",
       "  <thead>\n",
       "    <tr style=\"text-align: right;\">\n",
       "      <th></th>\n",
       "      <th>gamma</th>\n",
       "      <th>h1</th>\n",
       "      <th>gx0</th>\n",
       "      <th>gx1</th>\n",
       "      <th>sx0</th>\n",
       "      <th>sx1</th>\n",
       "      <th>ux0</th>\n",
       "      <th>ux1</th>\n",
       "    </tr>\n",
       "  </thead>\n",
       "  <tbody>\n",
       "    <tr>\n",
       "      <th>0</th>\n",
       "      <td>0.1</td>\n",
       "      <td>0.05</td>\n",
       "      <td>0.999999999896942</td>\n",
       "      <td>1.03057681536142e-10</td>\n",
       "      <td>0.416698122687120</td>\n",
       "      <td>0.583301877312880</td>\n",
       "      <td>4.12231387232041e-8</td>\n",
       "      <td>0.999999958776861</td>\n",
       "    </tr>\n",
       "    <tr>\n",
       "      <th>0</th>\n",
       "      <td>0.1</td>\n",
       "      <td>0.20</td>\n",
       "      <td>0.999999999587769</td>\n",
       "      <td>4.12230731115144e-10</td>\n",
       "      <td>0.455280077866603</td>\n",
       "      <td>0.544719922133397</td>\n",
       "      <td>1.03057722543399e-8</td>\n",
       "      <td>0.999999989694228</td>\n",
       "    </tr>\n",
       "    <tr>\n",
       "      <th>0</th>\n",
       "      <td>0.1</td>\n",
       "      <td>0.35</td>\n",
       "      <td>0.999999999278596</td>\n",
       "      <td>7.21403788150008e-10</td>\n",
       "      <td>0.470834591433433</td>\n",
       "      <td>0.529165408566567</td>\n",
       "      <td>5.88901170236203e-9</td>\n",
       "      <td>0.999999994110988</td>\n",
       "    </tr>\n",
       "    <tr>\n",
       "      <th>0</th>\n",
       "      <td>0.1</td>\n",
       "      <td>0.50</td>\n",
       "      <td>0.999999998969423</td>\n",
       "      <td>1.03057685264073e-9</td>\n",
       "      <td>0.480744853071753</td>\n",
       "      <td>0.519255146928247</td>\n",
       "      <td>4.12230790762049e-9</td>\n",
       "      <td>0.999999995877692</td>\n",
       "    </tr>\n",
       "    <tr>\n",
       "      <th>0</th>\n",
       "      <td>0.1</td>\n",
       "      <td>0.65</td>\n",
       "      <td>0.999999998660250</td>\n",
       "      <td>1.33974992458732e-9</td>\n",
       "      <td>0.488033553940495</td>\n",
       "      <td>0.511966446059505</td>\n",
       "      <td>3.17100596513822e-9</td>\n",
       "      <td>0.999999996828994</td>\n",
       "    </tr>\n",
       "  </tbody>\n",
       "</table>\n",
       "</div>"
      ],
      "text/plain": [
       "   gamma    h1                gx0                   gx1                sx0  \\\n",
       "0    0.1  0.05  0.999999999896942  1.03057681536142e-10  0.416698122687120   \n",
       "0    0.1  0.20  0.999999999587769  4.12230731115144e-10  0.455280077866603   \n",
       "0    0.1  0.35  0.999999999278596  7.21403788150008e-10  0.470834591433433   \n",
       "0    0.1  0.50  0.999999998969423   1.03057685264073e-9  0.480744853071753   \n",
       "0    0.1  0.65  0.999999998660250   1.33974992458732e-9  0.488033553940495   \n",
       "\n",
       "                 sx1                  ux0                ux1  \n",
       "0  0.583301877312880  4.12231387232041e-8  0.999999958776861  \n",
       "0  0.544719922133397  1.03057722543399e-8  0.999999989694228  \n",
       "0  0.529165408566567  5.88901170236203e-9  0.999999994110988  \n",
       "0  0.519255146928247  4.12230790762049e-9  0.999999995877692  \n",
       "0  0.511966446059505  3.17100596513822e-9  0.999999996828994  "
      ]
     },
     "execution_count": 72,
     "metadata": {},
     "output_type": "execute_result"
    }
   ],
   "source": [
    "df = pd.concat([pd.DataFrame([i], \n",
    "                             columns=['gamma', 'h1', 'gx0', 'gx1', 'sx0', 'sx1', 'ux0', 'ux1']) for i in data])\n",
    "df.head()\n"
   ]
  },
  {
   "cell_type": "code",
   "execution_count": 76,
   "metadata": {},
   "outputs": [
    {
     "data": {
      "image/png": "[encoded data removed]",
      "text/plain": [
       "<matplotlib.figure.Figure at 0x11677eda0>"
      ]
     },
     "metadata": {},
     "output_type": "display_data"
    }
   ],
   "source": [
    "import matplotlib.pyplot as plt\n",
    "\n",
    "# A first glimpse\n",
    "plt.figure()\n",
    "for g, h in product(gvec, hvec):\n",
    "    plt.plot(df.loc[('gamma' == g) and ('h1' == h),:].gx0, df.loc[('gamma' == g) and ('h1' == h),:].gx1, 'o')\n",
    "    plt.plot(df.loc[('gamma' == g) and ('h1' == h),:].sx0, df.loc[('gamma' == g) and ('h1' == h),:].sx1, '^')\n",
    "    plt.plot(df.loc[('gamma' == g) and ('h1' == h),:].ux0, df.loc[('gamma' == g) and ('h1' == h),:].ux1, 'v')\n",
    "#plt.xlim(0, 1)\n",
    "#plt.ylim(0, 1)\n",
    "plt.show()"
   ]
  },
  {
   "cell_type": "code",
   "execution_count": null,
   "metadata": {
    "collapsed": true
   },
   "outputs": [],
   "source": []
  }
 ],
 "metadata": {
  "kernelspec": {
   "display_name": "Python [conda root]",
   "language": "python",
   "name": "conda-root-py"
  },
  "language_info": {
   "codemirror_mode": {
    "name": "ipython",
    "version": 3
   },
   "file_extension": ".py",
   "mimetype": "text/x-python",
   "name": "python",
   "nbconvert_exporter": "python",
   "pygments_lexer": "ipython3",
   "version": "3.5.4"
  }
 },
 "nbformat": 4,
 "nbformat_minor": 2
}
