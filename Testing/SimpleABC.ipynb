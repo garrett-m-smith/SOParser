{
 "cells": [
  {
   "cell_type": "markdown",
   "metadata": {},
   "source": [
    "## Trying out approximate Bayesian computation for a simple SOSP model\n",
    "\n",
    "Based on Toni et al. (2009)"
   ]
  },
  {
   "cell_type": "code",
   "execution_count": 46,
   "metadata": {},
   "outputs": [],
   "source": [
    "# Setting up\n",
    "# Running the Monte-Carlo simulations\n",
    "import numpy as np\n",
    "import matplotlib.pyplot as plt\n",
    "import pandas as pd\n",
    "\n",
    "centers = np.array([0, 1])\n",
    "harmonies_true = np.array([1.0, 0.5])\n",
    "gamma_true = 0.25\n",
    "ndim = centers.size\n",
    "D_true = 0.001  # Small noise\n",
    "maxsteps = 1000\n",
    "tau = 0.01  # time step size\n",
    "xinit = 0.68  # starting at the midpoint between the two attractors\n",
    "\n",
    "\n",
    "# Defining functions\n",
    "def phi(x, center, gamma):\n",
    "    \"\"\"RBF centers\"\"\"\n",
    "    l2norm = np.linalg.norm(x - center)\n",
    "    return np.exp(-l2norm**2 / gamma)\n",
    "\n",
    "\n",
    "def calc_harmony(x, centers, harmonies, gamma):\n",
    "    \"\"\"Calculate the harmony at a given position\"\"\"\n",
    "    harmony = 0\n",
    "    for c in range(centers.shape[0]):\n",
    "        harmony += harmonies[c] * phi(x, centers[c], gamma)\n",
    "    return harmony\n",
    "\n",
    "\n",
    "def step_dyn(x, centers, harmonies, gamma):\n",
    "    \"\"\"Iterate the discretized dynamics\"\"\"\n",
    "    dx = np.zeros(x.shape)\n",
    "    mult = -2./gamma\n",
    "    for c in range(centers.shape[0]):\n",
    "        dx += (mult * harmonies[c]\n",
    "               * (x - centers[c]) * phi(x, centers[c], gamma))\n",
    "    return dx\n",
    "\n",
    "\n",
    "def not_close(x, centers, tol):\n",
    "    \"\"\"Returns True if not close to one of the centers\"\"\"\n",
    "    l2norm = np.zeros(centers.shape[0])\n",
    "    for c in range(centers.shape[0]):\n",
    "        diff = x - centers[c]\n",
    "        l2norm[c] = np.sqrt(np.dot(diff, diff))\n",
    "    if np.any(l2norm < tol):\n",
    "        return False\n",
    "    else:\n",
    "        return True\n",
    "\n",
    "\n",
    "def run(nruns, centers, harmonies, gamma, D):\n",
    "    \"\"\"Run the model many times\"\"\"\n",
    "    maxsteps = 500\n",
    "    data_list = []\n",
    "    for run in range(nruns):\n",
    "        xhist = np.zeros(maxsteps)\n",
    "        xhist[0,] = xinit\n",
    "        noise = np.random.normal(0, 1, xhist.shape)\n",
    "        t = 0\n",
    "        while t < maxsteps-1:\n",
    "            if not_close(xhist[t], centers, 0.1):\n",
    "                xhist[t+1,] = (xhist[t,] + tau*step_dyn(xhist[t,], centers, harmonies, gamma)\n",
    "                               + np.sqrt(2*D*tau)*noise[t,])\n",
    "                t += 1\n",
    "            else:\n",
    "                break\n",
    "        if np.all(np.round(xhist[t,]) == centers[0,]):\n",
    "            data_list.append(['x0', t])\n",
    "        elif np.all(np.round(xhist[t,]) == centers[1,]):\n",
    "            data_list.append(['x1', t])\n",
    "        else:\n",
    "            data_list.append(['Other', t])\n",
    "    data = pd.concat([pd.DataFrame([i], columns=('Attractor', 'Time')) for i in data_list])\n",
    "    return data"
   ]
  },
  {
   "cell_type": "code",
   "execution_count": 137,
   "metadata": {},
   "outputs": [],
   "source": [
    "sample = run(100, centers, harmonies_true, gamma_true, D_true)\n",
    "sample_counts = sample.groupby('Attractor', as_index=False).agg(['count']).values\n",
    "sample_means = sample.groupby('Attractor', as_index=False).agg(['mean']).values\n",
    "#print(sample_counts, sample_means)"
   ]
  },
  {
   "cell_type": "code",
   "execution_count": 138,
   "metadata": {},
   "outputs": [
    {
     "name": "stdout",
     "output_type": "stream",
     "text": [
      "Trial 0\n",
      "Trial 500\n",
      "Trial 1000\n",
      "Trial 1500\n",
      "Trial 2000\n",
      "Trial 2500\n",
      "Trial 3000\n",
      "Trial 3500\n",
      "Trial 4000\n",
      "Trial 4500\n"
     ]
    }
   ],
   "source": [
    "posterior = []\n",
    "for trial in range(5000):\n",
    "    if trial % 500 == 0: print('Trial {}'.format(trial))\n",
    "    h1_curr = np.random.uniform(0.25, 0.75)\n",
    "    harmonies_curr = [1., h1_curr]\n",
    "    gamma_curr = np.random.uniform(0.1, 0.5)\n",
    "    D_curr = np.random.uniform(0., 0.25)\n",
    "    curr = run(100, centers, harmonies_curr, gamma_curr, D_curr)\n",
    "    curr_counts = curr.groupby('Attractor', as_index=False).agg(['count']).values\n",
    "    curr_means = curr.groupby('Attractor', as_index=False).agg(['mean']).values\n",
    "    if curr_counts.size > 2:\n",
    "        curr_counts = curr_counts[1:]\n",
    "        curr_means = curr_means[1:]\n",
    "    sse = np.sqrt(np.sum((sample_means - curr_counts)**2) + np.sum((sample_means - curr_means)**2))\n",
    "    if sse < 150:\n",
    "        posterior.append([h1_curr, gamma_curr, D_curr])\n"
   ]
  },
  {
   "cell_type": "code",
   "execution_count": 139,
   "metadata": {},
   "outputs": [
    {
     "name": "stderr",
     "output_type": "stream",
     "text": [
      "/Users/garrettsmith/anaconda/lib/python3.5/site-packages/matplotlib/axes/_axes.py:6448: UserWarning: The 'normed' kwarg is deprecated, and has been replaced by the 'density' kwarg.\n",
      "  warnings.warn(\"The 'normed' kwarg is deprecated, and has been \"\n"
     ]
    },
    {
     "data": {
      "image/png": "[encoded data removed]",
      "text/plain": [
       "<Figure size 432x288 with 1 Axes>"
      ]
     },
     "metadata": {},
     "output_type": "display_data"
    },
    {
     "data": {
      "image/png": "[encoded data removed]",
      "text/plain": [
       "<Figure size 432x288 with 1 Axes>"
      ]
     },
     "metadata": {},
     "output_type": "display_data"
    },
    {
     "data": {
      "image/png": "[encoded data removed]",
      "text/plain": [
       "<Figure size 432x288 with 1 Axes>"
      ]
     },
     "metadata": {},
     "output_type": "display_data"
    }
   ],
   "source": [
    "hpost = np.array([h[0] for h in posterior])\n",
    "gpost = np.array([g[1] for g in posterior])\n",
    "Dpost = np.array([d[2] for d in posterior])\n",
    "\n",
    "post = [hpost, gpost, Dpost]\n",
    "labels = ['harmony0', 'gamma', 'D']\n",
    "\n",
    "import seaborn as sns\n",
    "for i in range(3):\n",
    "    sns.distplot(post[i])\n",
    "    plt.title(labels[i])\n",
    "    plt.show()"
   ]
  },
  {
   "cell_type": "code",
   "execution_count": 140,
   "metadata": {},
   "outputs": [
    {
     "data": {
      "text/plain": [
       "205"
      ]
     },
     "execution_count": 140,
     "metadata": {},
     "output_type": "execute_result"
    }
   ],
   "source": [
    "len(posterior)"
   ]
  },
  {
   "cell_type": "code",
   "execution_count": null,
   "metadata": {},
   "outputs": [],
   "source": []
  }
 ],
 "metadata": {
  "kernelspec": {
   "display_name": "Python [default]",
   "language": "python",
   "name": "python3"
  },
  "language_info": {
   "codemirror_mode": {
    "name": "ipython",
    "version": 3
   },
   "file_extension": ".py",
   "mimetype": "text/x-python",
   "name": "python",
   "nbconvert_exporter": "python",
   "pygments_lexer": "ipython3",
   "version": "3.5.5"
  }
 },
 "nbformat": 4,
 "nbformat_minor": 2
}
