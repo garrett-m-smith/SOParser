{
 "cells": [
  {
   "cell_type": "markdown",
   "metadata": {},
   "source": [
    "# Stopping criteria for SOSP parsers\n",
    "\n",
    "The problem: if we want to model self-paced reading, we need a way of determining when the next word should be read in. The previous models are based on RSVP, so the ISI is fixed external to the parser.\n",
    "\n",
    "Technically, this amounts to specifying a discontinuity boundary for the piecewise-smooth dynamical system that is the parser. A second technical note: specifying the discontinuity boundary might make the system amenable to first-passage time analyses...\n",
    "\n",
    "Approaches to consider:\n",
    "* Link strength threshold\n",
    "* Velocity or kinetic energy threshold\n",
    "* Biomass threshold (Wildenberg...)\n",
    "* Spivey's dynamic threshold link strength (McRae et al., 1998): 1 - alpha t\n",
    "* Soparse: Link and time threshold"
   ]
  },
  {
   "cell_type": "code",
   "execution_count": null,
   "metadata": {
    "collapsed": true
   },
   "outputs": [],
   "source": [
    "# Defining dynamics\n",
    "\n",
    "import numpy as np\n",
    "import matplotlib.pyplot as plt\n",
    "\n"
   ]
  }
 ],
 "metadata": {
  "kernelspec": {
   "display_name": "Python [conda root]",
   "language": "python",
   "name": "conda-root-py"
  },
  "language_info": {
   "codemirror_mode": {
    "name": "ipython",
    "version": 3
   },
   "file_extension": ".py",
   "mimetype": "text/x-python",
   "name": "python",
   "nbconvert_exporter": "python",
   "pygments_lexer": "ipython3",
   "version": "3.5.3"
  }
 },
 "nbformat": 4,
 "nbformat_minor": 2
}
