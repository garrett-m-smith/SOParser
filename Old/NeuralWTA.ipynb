{
 "cells": [
  {
   "cell_type": "markdown",
   "metadata": {},
   "source": [
    "## Trying out WTA NN from Mao & Massaquoi (2007)"
   ]
  },
  {
   "cell_type": "code",
   "execution_count": 74,
   "metadata": {},
   "outputs": [
    {
     "data": {
      "image/png": "[encoded data removed]",
      "text/plain": [
       "<matplotlib.figure.Figure at 0x1196c5b38>"
      ]
     },
     "metadata": {},
     "output_type": "display_data"
    }
   ],
   "source": [
    "import numpy as np\n",
    "from scipy.integrate import odeint\n",
    "import matplotlib.pyplot as plt\n",
    "%matplotlib inline\n",
    "\n",
    "\n",
    "def act(x):\n",
    "    #a = 1./8\n",
    "    b = 0.5\n",
    "    return 1. / (1 + np.exp(-8. * (x - b))) # std. sigmoid\n",
    "    #return x * (x >= 0) # Heaviside\n",
    "\n",
    "\n",
    "#def dyn(x, t, ipt):\n",
    "#    v = 1.\n",
    "#    W = np.full((len(x), len(x)), v)\n",
    "#    np.fill_diagonal(W, 0)\n",
    "#    dx = -x - W @ act(x) + ipt\n",
    "#    return dx\n",
    "\n",
    "\n",
    "def dyn(x, t, ipt):\n",
    "    W = np.array([[1, 1.1], [1.1, 1]])\n",
    "    dx = ipt * x * (1 - W @ x)\n",
    "    return dx\n",
    "\n",
    "ntsteps = 10000\n",
    "tau = 0.1\n",
    "x = np.zeros((ntsteps, 2))\n",
    "x[0,] = [0.01, 0.01]\n",
    "#y = np.zeros((ntsteps, len(ipt0)))\n",
    "ipt = np.zeros((ntsteps, 2))\n",
    "ipt[:,1] = 0.5\n",
    "ipt[:,0] = -0.1\n",
    "ipt[ntsteps//2:,0] = 1.0\n",
    "#ipt[:,0] = 0.75*np.sin(np.linspace(0, ntsteps, ntsteps) * (1/200)) + 1.0\n",
    "#ipt[:,0] = 2*np.sin(np.linspace(0, ntsteps, ntsteps) * (1/1000))\n",
    "#ipt[0:ntsteps//2,0] = np.linspace(-0.1, 1.5, ntsteps//2)\n",
    "#ipt[ntsteps//2:,0] = np.linspace(1.5, -0.1, ntsteps//2)\n",
    "#ipt[0:ntsteps//4,0] = 2.\n",
    "#ipt[ntsteps//4:ntsteps//2,0] = -0.1\n",
    "#ipt[ntsteps//2:(3*ntsteps//4),0] = 2.\n",
    "#ipt[(3*ntsteps//4):,0] = -0.1\n",
    "#ipt[0:1000,0] = 1.5\n",
    "#ipt[1000:,0] = -1.25\n",
    "\n",
    "for t in range(1, ntsteps):\n",
    "    x[t,] = x[t-1,] + tau * dyn(x[t-1,], 0, ipt[t,])\n",
    "#    x[t,] = np.clip(x[t,], -0.01, 1.1)\n",
    "#    y[t,] = act(x[t,])\n",
    "    \n",
    "\n",
    "#plt.plot(y)\n",
    "plt.plot(x)\n",
    "plt.plot(ipt[:,0])\n",
    "plt.show() # hysteresis!\n",
    "\n",
    "#plt.plot(x[:,0], x[:,1])\n",
    "#plt.show()"
   ]
  },
  {
   "cell_type": "code",
   "execution_count": null,
   "metadata": {
    "collapsed": true
   },
   "outputs": [],
   "source": []
  },
  {
   "cell_type": "code",
   "execution_count": null,
   "metadata": {
    "collapsed": true
   },
   "outputs": [],
   "source": []
  }
 ],
 "metadata": {
  "kernelspec": {
   "display_name": "Python [conda root]",
   "language": "python",
   "name": "conda-root-py"
  },
  "language_info": {
   "codemirror_mode": {
    "name": "ipython",
    "version": 3
   },
   "file_extension": ".py",
   "mimetype": "text/x-python",
   "name": "python",
   "nbconvert_exporter": "python",
   "pygments_lexer": "ipython3",
   "version": "3.5.3"
  }
 },
 "nbformat": 4,
 "nbformat_minor": 2
}
