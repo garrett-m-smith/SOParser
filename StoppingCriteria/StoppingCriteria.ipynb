{
 "cells": [
  {
   "cell_type": "markdown",
   "metadata": {},
   "source": [
    "# Stopping criteria for SOSP parsers\n",
    "\n",
    "The problem: if we want to model self-paced reading, we need a way of determining when the next word should be read in. The previous models are based on RSVP, so the ISI is fixed external to the parser.\n",
    "\n",
    "Technically, this amounts to specifying a discontinuity boundary for the piecewise-smooth dynamical system that is the parser. A second technical note: specifying the discontinuity boundary might make the system amenable to first-passage time analyses...\n",
    "\n",
    "Approaches to consider:\n",
    "* Link strength threshold\n",
    "* Velocity or kinetic energy threshold\n",
    "* Biomass/biodiversity threshold (Wildenberg...; only for systems w/ >= 2 links)\n",
    "* Spivey's dynamic threshold link strength (McRae et al., 1998): 1 - alpha t\n",
    "* Soparse: Link and time threshold"
   ]
  },
  {
   "cell_type": "markdown",
   "metadata": {},
   "source": [
    "## A test system\n",
    "\n",
    "To test this, I'll start with the simplest possible system: a single link connecting two treelets. This just boils the system down to a case of logistic growth, but it will let me at least start testing."
   ]
  },
  {
   "cell_type": "code",
   "execution_count": 34,
   "metadata": {},
   "outputs": [
    {
     "data": {
      "text/plain": [
       "<function matplotlib.pyplot.show>"
      ]
     },
     "execution_count": 34,
     "metadata": {},
     "output_type": "execute_result"
    },
    {
     "data": {
      "image/png": "[encoded data removed]",
      "text/plain": [
       "<matplotlib.figure.Figure at 0x112ba3048>"
      ]
     },
     "metadata": {},
     "output_type": "display_data"
    }
   ],
   "source": [
    "# Defining dynamics\n",
    "\n",
    "import numpy as np\n",
    "import matplotlib.pyplot as plt\n",
    "%matplotlib inline\n",
    "\n",
    "def link_threshold(x, threshold, tol):\n",
    "    if x < threshold:\n",
    "        return True\n",
    "    else:\n",
    "        return False\n",
    "\n",
    "def vel_threshold(x, threshold, tol):\n",
    "    vel = np.sqrt(x**2)\n",
    "    if np.abs(vel - threshold) > tol:\n",
    "        return True\n",
    "    else:\n",
    "        return False\n",
    "\n",
    "# Main loop\n",
    "tau = 0.1\n",
    "threshold = 0.8\n",
    "tol = 0.01\n",
    "thresh_types = [link_threshold, vel_threshold]\n",
    "\n",
    "x = np.zeros(100)\n",
    "x[0] = 0.01\n",
    "noise = np.random.normal(0, 0.5, len(x))\n",
    "t = 1\n",
    "\n",
    "while link_threshold(x[t-1], threshold, tol) and t < len(x):\n",
    "#while vel_threshold(x[t-1], threshold, tol) and t < len(x):\n",
    "    x[t] = x[t-1] + tau*(x[t-1] * (1 - x[t-1] + noise[t-1]))\n",
    "    t += 1\n",
    "    \n",
    "plt.plot(x)\n",
    "plt.ylim(0, 1)\n",
    "plt.show"
   ]
  },
  {
   "cell_type": "code",
   "execution_count": null,
   "metadata": {
    "collapsed": true
   },
   "outputs": [],
   "source": []
  },
  {
   "cell_type": "code",
   "execution_count": null,
   "metadata": {
    "collapsed": true
   },
   "outputs": [],
   "source": []
  }
 ],
 "metadata": {
  "kernelspec": {
   "display_name": "Python [conda root]",
   "language": "python",
   "name": "conda-root-py"
  },
  "language_info": {
   "codemirror_mode": {
    "name": "ipython",
    "version": 3
   },
   "file_extension": ".py",
   "mimetype": "text/x-python",
   "name": "python",
   "nbconvert_exporter": "python",
   "pygments_lexer": "ipython3",
   "version": "3.5.3"
  }
 },
 "nbformat": 4,
 "nbformat_minor": 2
}
